{
 "cells": [
  {
   "cell_type": "markdown",
   "metadata": {},
   "source": [
    "# Data Preprocessing"
   ]
  },
  {
   "cell_type": "markdown",
   "metadata": {},
   "source": [
    "## Initial Setup"
   ]
  },
  {
   "cell_type": "code",
   "execution_count": null,
   "metadata": {},
   "outputs": [],
   "source": [
    "!python --version"
   ]
  },
  {
   "cell_type": "code",
   "execution_count": null,
   "metadata": {},
   "outputs": [],
   "source": [
    "# !pip3 install opencv-python\n",
    "\n",
    "!pip3 install av\n",
    "import av\n",
    "print(av.__version__)"
   ]
  },
  {
   "cell_type": "code",
   "execution_count": null,
   "metadata": {},
   "outputs": [],
   "source": [
    "!pip3 install opencv-contrib-python"
   ]
  },
  {
   "cell_type": "markdown",
   "metadata": {},
   "source": [
    "## Download Dataset"
   ]
  },
  {
   "cell_type": "markdown",
   "metadata": {},
   "source": [
    "## Preprocessing Dataset"
   ]
  },
  {
   "cell_type": "markdown",
   "metadata": {},
   "source": [
    "### Converting Videos to RGB frames"
   ]
  },
  {
   "cell_type": "code",
   "execution_count": null,
   "metadata": {},
   "outputs": [],
   "source": [
    "import cv2\n",
    "import os\n",
    "import numpy as np\n",
    "\n",
    "if(os.path.isdir(\"./rgb_frames/\") == False):\n",
    "  os.mkdir(\"./rgb_frames/\")\n",
    "vidcap = cv2.VideoCapture(\"./videos/workingAtLaptop.mp4\")\n",
    "success, image = vidcap.read()\n",
    "count = 1\n",
    "vid = \"workingAtLaptop\" # remove the file extension\n",
    "mode = 0o666\n",
    "path = os.path.join(\"./rgb_frames/\", vid)\n",
    "os.makedirs(path, mode, exist_ok=True)\n",
    "while success:\n",
    "  # print(image.shape)\n",
    "  height, width, layers = image.shape\n",
    "  new_h = int(height / 9)\n",
    "  new_w = int(width / 9)\n",
    "  resize = cv2.resize(image, (new_w, new_h))\n",
    "  cv2.imwrite(\"./rgb_frames/\" + vid + \"/\" + vid + \"-%s.jpg\" % str(count).zfill(6), resize)     # save frame as JPEG file\n",
    "  success, image = vidcap.read()\n",
    "  count += 1"
   ]
  },
  {
   "cell_type": "code",
   "execution_count": null,
   "metadata": {},
   "outputs": [],
   "source": [
    "import cv2\n",
    "print(cv2.__version__)\n",
    "cv2.optflow.DualTVL1OpticalFlow.create()"
   ]
  },
  {
   "cell_type": "markdown",
   "metadata": {},
   "source": [
    "### Getting the Optical Flow Frames"
   ]
  },
  {
   "cell_type": "code",
   "execution_count": null,
   "metadata": {},
   "outputs": [],
   "source": [
    "from denseflow import dense_flow\n",
    "import os\n",
    "\n",
    "# To extract dense_flow images\n",
    "#     :param augs:the detailed augments:\n",
    "#         video_path: dpoqwkpdqkwdpoqwkd\n",
    "#         video_name: the video name which is like: 'v_xxxxxxx',if different ,please have a modify.\n",
    "#         save_dir: the destination path's final direction name.\n",
    "#         step: num of frames between each two extracted frames\n",
    "#         bound: bi-bound parameter\n",
    "#     :return: no returns\n",
    "!mkdir -p ./flow_frames/\n",
    "# for dir in os.listdir(\"./ucf-101\"):\n",
    "#   print(\"processing directory \" + dir)\n",
    "#   for vid in os.listdir(os.path.join(\"./ucf-101\", dir)):\n",
    "#     video_path = os.path.join(\"./ucf-101\", dir, vid)\n",
    "#     video_name = vid.split(\".\")[0]\n",
    "#     save_dir = \"./flow_ucf101\"\n",
    "#     step = 1\n",
    "#     bound = 15\n",
    "#     dense_flow_args = [video_path, video_name, save_dir, step, bound]\n",
    "#     dense_flow(dense_flow_args)\n",
    "video_path = os.path.join(\"./videos/workingAtLaptop.mp4\")\n",
    "video_name = \"workingAtLaptop\"\n",
    "save_dir = \"./flow_frames\"\n",
    "step = 1\n",
    "bound = 15\n",
    "dense_flow_args = [video_path, video_name, save_dir, step, bound]\n",
    "dense_flow(dense_flow_args)"
   ]
  },
  {
   "cell_type": "markdown",
   "metadata": {},
   "source": [
    "### Creating the Train/Test split json"
   ]
  },
  {
   "cell_type": "markdown",
   "metadata": {},
   "source": [
    "### Viewing the Train/Test split json"
   ]
  }
 ],
 "metadata": {
  "kernelspec": {
   "display_name": "Python 3 (ipykernel)",
   "language": "python",
   "name": "python3"
  },
  "language_info": {
   "codemirror_mode": {
    "name": "ipython",
    "version": 3
   },
   "file_extension": ".py",
   "mimetype": "text/x-python",
   "name": "python",
   "nbconvert_exporter": "python",
   "pygments_lexer": "ipython3",
   "version": "3.12.2"
  }
 },
 "nbformat": 4,
 "nbformat_minor": 2
}
